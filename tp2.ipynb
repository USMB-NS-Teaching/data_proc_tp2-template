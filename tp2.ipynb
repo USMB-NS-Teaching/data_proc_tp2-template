{
 "cells": [
  {
   "cell_type": "markdown",
   "id": "193c9237",
   "metadata": {},
   "source": [
    "Avant de soumettre cet exercice, assurez-vous que tout se déroule comme prévu. D'abord, **restart the kernel** (dans la barre de menu, sélectionnez Kernel$\\rightarrow$Restart) et après **run all cells** (dans la barre de menu, sélectionnez Cell$\\rightarrow$Run All).\n",
    "\n",
    "Assurez-vous de remplir tous les endroit qui dit `YOUR CODE HERE` ou \"YOUR ANSWER HERE\", ainsi que votre nom ci-dessous:"
   ]
  },
  {
   "cell_type": "code",
   "execution_count": null,
   "id": "a705796a",
   "metadata": {},
   "outputs": [],
   "source": [
    "NAME = \"\""
   ]
  },
  {
   "cell_type": "markdown",
   "id": "f621f3b8",
   "metadata": {},
   "source": [
    "---"
   ]
  },
  {
   "cell_type": "markdown",
   "id": "15b38a4e",
   "metadata": {},
   "source": [
    "## Dans cet exercice, nous allons nous entraîner avec NumPy. Pour chaque problème, implémentez la fonction demandée. Chacun compte pour un point sur vingt"
   ]
  },
  {
   "cell_type": "code",
   "execution_count": null,
   "id": "c1537986",
   "metadata": {},
   "outputs": [],
   "source": [
    "import numpy as np"
   ]
  },
  {
   "cell_type": "code",
   "execution_count": null,
   "id": "0fccc1f4",
   "metadata": {
    "deletable": false,
    "nbgrader": {
     "cell_type": "code",
     "checksum": "e35e2a290fe033bc64d2c1ff9da2a5b5",
     "grade": false,
     "grade_id": "cell-0a37e1f21d2d54ee",
     "locked": false,
     "schema_version": 3,
     "solution": true,
     "task": false
    }
   },
   "outputs": [],
   "source": [
    "def create_array(l: list) -> np.ndarray:\n",
    "    \"\"\"\n",
    "    Function that converts a list into a NumPy array\n",
    "\n",
    "    Parameters\n",
    "    ----------\n",
    "    l : list\n",
    "        A list containing a given number of elements\n",
    "\n",
    "    Returns\n",
    "    -------\n",
    "    ndarray\n",
    "        \n",
    "    \"\"\"\n",
    "    # YOUR CODE HERE\n",
    "    raise NotImplementedError()"
   ]
  },
  {
   "cell_type": "code",
   "execution_count": null,
   "id": "44c8c09a",
   "metadata": {
    "deletable": false,
    "editable": false,
    "nbgrader": {
     "cell_type": "code",
     "checksum": "0c3b3d45242ef594138cd49fb29184a8",
     "grade": true,
     "grade_id": "cell-550cdda2e6fb262c",
     "locked": true,
     "points": 1,
     "schema_version": 3,
     "solution": false,
     "task": false
    }
   },
   "outputs": [],
   "source": [
    "assert np.array_equal(create_array([1, 2, 3, 4, 5, 6, 7, 8, 9, 10]), np.arange(1, 11, 1))\n",
    "a = np.random.rand(10,1)\n",
    "assert np.array_equal(create_array(a.data), a)"
   ]
  },
  {
   "cell_type": "code",
   "execution_count": null,
   "id": "5d5dd505",
   "metadata": {
    "deletable": false,
    "nbgrader": {
     "cell_type": "code",
     "checksum": "6ccf991c2b31210e45f10f1ef1b04fc3",
     "grade": false,
     "grade_id": "cell-75c2b8c4eab92052",
     "locked": false,
     "schema_version": 3,
     "solution": true,
     "task": false
    }
   },
   "outputs": [],
   "source": [
    "def zeros(n: int) -> np.ndarray:\n",
    "    \"\"\"\n",
    "    Create a numpy array of all zeros of size n\n",
    "\n",
    "    Parameters\n",
    "    ----------\n",
    "    n : int\n",
    "        Size of the created array\n",
    "\n",
    "    Returns\n",
    "    -------\n",
    "    ndarray\n",
    "        \n",
    "    \"\"\"\n",
    "    # YOUR CODE HERE\n",
    "    raise NotImplementedError()"
   ]
  },
  {
   "cell_type": "code",
   "execution_count": null,
   "id": "dfa74996",
   "metadata": {
    "deletable": false,
    "editable": false,
    "nbgrader": {
     "cell_type": "code",
     "checksum": "eb0a8ade6b7206255ad1dcfd026c82dc",
     "grade": true,
     "grade_id": "cell-86db41a3dd1aacc6",
     "locked": true,
     "points": 1,
     "schema_version": 3,
     "solution": false,
     "task": false
    }
   },
   "outputs": [],
   "source": [
    "assert np.array_equal(zeros(3), [0, 0, 0])\n",
    "assert np.array_equal(zeros(0), [])"
   ]
  },
  {
   "cell_type": "code",
   "execution_count": null,
   "id": "9801b590",
   "metadata": {
    "deletable": false,
    "nbgrader": {
     "cell_type": "code",
     "checksum": "4875e5abd2b31ed845ba71307ab8bbf6",
     "grade": false,
     "grade_id": "cell-f5163451497f11f4",
     "locked": false,
     "schema_version": 3,
     "solution": true,
     "task": false
    }
   },
   "outputs": [],
   "source": [
    "def bigger_than(a: np.ndarray, n: int) -> np.ndarray:\n",
    "    \"\"\"\n",
    "    Create a view of the elements bigger than n\n",
    "\n",
    "    Parameters\n",
    "    ----------\n",
    "    a : ndarray\n",
    "        An array of numbers (float / int)\n",
    "    n : int\n",
    "        The value used for comparison\n",
    "\n",
    "    Returns\n",
    "    -------\n",
    "    ndarray\n",
    "        \n",
    "    \"\"\"\n",
    "    # YOUR CODE HERE\n",
    "    raise NotImplementedError()"
   ]
  },
  {
   "cell_type": "code",
   "execution_count": null,
   "id": "aad23fd2",
   "metadata": {
    "deletable": false,
    "editable": false,
    "nbgrader": {
     "cell_type": "code",
     "checksum": "208439f6b95bff98e911770a0fb77697",
     "grade": true,
     "grade_id": "cell-14936f0983dd2892",
     "locked": true,
     "points": 1,
     "schema_version": 3,
     "solution": false,
     "task": false
    }
   },
   "outputs": [],
   "source": [
    "arr = np.array([1, 2, 3, 4, 5, 6])\n",
    "assert np.array_equal(bigger_than(arr, 3), [4, 5, 6])\n",
    "arr = np.loadtxt(\"data/testa.txt\")\n",
    "assert np.array_equal(bigger_than(arr, 3), [7, 7, 8, 5, 7, 8])"
   ]
  },
  {
   "cell_type": "code",
   "execution_count": null,
   "id": "a833d1d3",
   "metadata": {
    "deletable": false,
    "nbgrader": {
     "cell_type": "code",
     "checksum": "d2c01109848188b283eac7ec40a23293",
     "grade": false,
     "grade_id": "cell-4c5932021ce6e2c0",
     "locked": false,
     "schema_version": 3,
     "solution": true,
     "task": false
    }
   },
   "outputs": [],
   "source": [
    "def even(a: np.ndarray) -> np.ndarray:\n",
    "    \"\"\"\n",
    "    Create a view of the elements of the array a that are even\n",
    "\n",
    "    Parameters\n",
    "    ----------\n",
    "    a : ndarray\n",
    "        An array of numbers (float / int)\n",
    "\n",
    "    Returns\n",
    "    -------\n",
    "    ndarray\n",
    "        \n",
    "    \"\"\"\n",
    "    # YOUR CODE HERE\n",
    "    raise NotImplementedError()"
   ]
  },
  {
   "cell_type": "code",
   "execution_count": null,
   "id": "2b796e43",
   "metadata": {
    "deletable": false,
    "editable": false,
    "nbgrader": {
     "cell_type": "code",
     "checksum": "8bcbae7627103c739aefa6311b11b1dd",
     "grade": true,
     "grade_id": "cell-2206870c64ab8070",
     "locked": true,
     "points": 1,
     "schema_version": 3,
     "solution": false,
     "task": false
    }
   },
   "outputs": [],
   "source": [
    "arr = np.array([1, 2, 3, 4, 5, 6])\n",
    "assert np.array_equal(even(arr), [1, 3, 5])\n",
    "arr = np.loadtxt(\"data/testa.txt\")\n",
    "assert np.array_equal(even(arr), [7, 7, 1.0, 5.0, 3.0, 3.0, 7.0, 3.0])"
   ]
  },
  {
   "cell_type": "code",
   "execution_count": null,
   "id": "43e676a9",
   "metadata": {
    "deletable": false,
    "nbgrader": {
     "cell_type": "code",
     "checksum": "d3c97a3df3c5d9267839d0a7f22f15be",
     "grade": false,
     "grade_id": "cell-1a730de84ad54475",
     "locked": false,
     "schema_version": 3,
     "solution": true,
     "task": false
    }
   },
   "outputs": [],
   "source": [
    "def replace_bigger_than(a: np.ndarray, n: int) -> np.ndarray:\n",
    "    \"\"\"\n",
    "    Replace values that are bigger than n by -1\n",
    "\n",
    "    Parameters\n",
    "    ----------\n",
    "    a : ndarray\n",
    "        An array of numbers (float / int)\n",
    "    n : int\n",
    "        The number used for comparison\n",
    "\n",
    "    Returns\n",
    "    -------\n",
    "    ndarray\n",
    "        \n",
    "    \"\"\"\n",
    "    # YOUR CODE HERE\n",
    "    raise NotImplementedError()"
   ]
  },
  {
   "cell_type": "code",
   "execution_count": null,
   "id": "bd46237b",
   "metadata": {
    "deletable": false,
    "editable": false,
    "nbgrader": {
     "cell_type": "code",
     "checksum": "8411ccc1f71dad7b4c9aaa0f1dd97347",
     "grade": true,
     "grade_id": "cell-cccb4841ace09ada",
     "locked": true,
     "points": 1,
     "schema_version": 3,
     "solution": false,
     "task": false
    }
   },
   "outputs": [],
   "source": [
    "arr = np.array([1, 2, 3, 4, 5, 6])\n",
    "assert np.array_equal(replace_bigger_than(arr, 3), [1, 2, 3, -1, -1, -1])\n",
    "arr = np.loadtxt(\"data/testa.txt\")\n",
    "assert np.array_equal(replace_bigger_than(arr, 3), [-1, -1, -1, 1.0, -1, 3, 3, -1, 3, -1])"
   ]
  },
  {
   "cell_type": "code",
   "execution_count": null,
   "id": "0e05a45d",
   "metadata": {
    "deletable": false,
    "nbgrader": {
     "cell_type": "code",
     "checksum": "88d948bbe2810eea2fb0d6cf92c0ba0d",
     "grade": false,
     "grade_id": "cell-e53d12706a5b8e81",
     "locked": false,
     "schema_version": 3,
     "solution": true,
     "task": false
    }
   },
   "outputs": [],
   "source": [
    "def replace_bigger_than_copy(a: np.ndarray, n: int) -> np.ndarray:\n",
    "    \"\"\"\n",
    "    Replace values that are bigger than n by -1 without modifying the original array a\n",
    "\n",
    "    Parameters\n",
    "    ----------\n",
    "    a : ndarray\n",
    "        An array of numbers (float / int)\n",
    "    n : int\n",
    "        The number used for comparison\n",
    "\n",
    "    Returns\n",
    "    -------\n",
    "    ndarray\n",
    "        \n",
    "    \"\"\"\n",
    "    # YOUR CODE HERE\n",
    "    raise NotImplementedError()"
   ]
  },
  {
   "cell_type": "code",
   "execution_count": null,
   "id": "54545997",
   "metadata": {
    "deletable": false,
    "editable": false,
    "nbgrader": {
     "cell_type": "code",
     "checksum": "9b98138c0b4a3ccc6528dc7c02859752",
     "grade": true,
     "grade_id": "cell-6c036e0a7b445bc3",
     "locked": true,
     "points": 1,
     "schema_version": 3,
     "solution": false,
     "task": false
    }
   },
   "outputs": [],
   "source": [
    "arr = np.array([1, 2, 3, 4, 5, 6])\n",
    "assert np.array_equal(replace_bigger_than_copy(arr, 3), [1, 2, 3, -1, -1, -1])\n",
    "assert np.array_equal(arr, [1, 2, 3, 4, 5, 6])\n",
    "arr = np.loadtxt(\"data/testa.txt\")\n",
    "assert np.array_equal(replace_bigger_than_copy(arr, 3), [-1, -1, -1, 1.0, -1, 3, 3, -1, 3, -1])\n",
    "assert np.array_equal(arr, np.loadtxt(\"data/testa.txt\"))"
   ]
  },
  {
   "cell_type": "code",
   "execution_count": null,
   "id": "467082ed",
   "metadata": {
    "deletable": false,
    "nbgrader": {
     "cell_type": "code",
     "checksum": "dd7ce89d137391df3df32d43b1f48eb4",
     "grade": false,
     "grade_id": "cell-63df1914534e3682",
     "locked": false,
     "schema_version": 3,
     "solution": true,
     "task": false
    }
   },
   "outputs": [],
   "source": [
    "def repeat_array(a: np.ndarray, n: int) -> np.ndarray:\n",
    "    \"\"\"\n",
    "    Create an array that is the repetition of array a n times\n",
    "\n",
    "    Parameters\n",
    "    ----------\n",
    "    a : ndarray\n",
    "        An array of numbers (float / int)\n",
    "    n : int\n",
    "        How many times to repeat the array\n",
    "\n",
    "    Returns\n",
    "    -------\n",
    "    ndarray\n",
    "        \n",
    "    \"\"\"\n",
    "    # YOUR CODE HERE\n",
    "    raise NotImplementedError()"
   ]
  },
  {
   "cell_type": "code",
   "execution_count": null,
   "id": "df01dc38",
   "metadata": {
    "deletable": false,
    "editable": false,
    "nbgrader": {
     "cell_type": "code",
     "checksum": "31397f95b2b68b2a9fa0171be31071ef",
     "grade": true,
     "grade_id": "cell-0e884597194730d1",
     "locked": true,
     "points": 1,
     "schema_version": 3,
     "solution": false,
     "task": false
    }
   },
   "outputs": [],
   "source": [
    "assert np.array_equal(repeat_array(np.array([1, 2, 3]), 3), [1, 2, 3, 1, 2, 3, 1, 2, 3])\n",
    "assert np.array_equal(repeat_array(np.loadtxt(\"data/testa.txt\"), 3), [7.0, 7.0, 8.0, 1.0, 5.0, 3.0, 3.0, 7.0, 3.0, 8.0, 7.0, 7.0, 8.0, 1.0, 5.0, 3.0, 3.0, 7.0, 3.0, 8.0, 7.0, 7.0, 8.0, 1.0, 5.0, 3.0, 3.0, 7.0, 3.0, 8.0])"
   ]
  },
  {
   "cell_type": "code",
   "execution_count": null,
   "id": "8ca7ad30",
   "metadata": {
    "deletable": false,
    "nbgrader": {
     "cell_type": "code",
     "checksum": "e316514f7ff437aabf966f4defef2ad2",
     "grade": false,
     "grade_id": "cell-b18b08bda10520b6",
     "locked": false,
     "schema_version": 3,
     "solution": true,
     "task": false
    }
   },
   "outputs": [],
   "source": [
    "def common_items(a: np.ndarray, b: np.ndarray) -> np.ndarray:\n",
    "    \"\"\"\n",
    "    Create an array that contains common items in arrays a and b\n",
    "\n",
    "    Parameters\n",
    "    ----------\n",
    "    a : ndarray\n",
    "        An array of numbers (float / int)\n",
    "    b : ndarray\n",
    "        An array of numbers (float / int)\n",
    "\n",
    "    Returns\n",
    "    -------\n",
    "    ndarray\n",
    "        \n",
    "    \"\"\"\n",
    "    # YOUR CODE HERE\n",
    "    raise NotImplementedError()"
   ]
  },
  {
   "cell_type": "code",
   "execution_count": null,
   "id": "16b885b6",
   "metadata": {
    "deletable": false,
    "editable": false,
    "nbgrader": {
     "cell_type": "code",
     "checksum": "0fe7d4c7c0fba7a02bda9680416d3a8d",
     "grade": true,
     "grade_id": "cell-e651547944e27e4a",
     "locked": true,
     "points": 1,
     "schema_version": 3,
     "solution": false,
     "task": false
    }
   },
   "outputs": [],
   "source": [
    "assert np.array_equal(common_items(np.array([1, 2, 3, 4, 5]), np.array([6, 7, 8, 9, 10])), [])\n",
    "assert np.array_equal(common_items(np.loadtxt(\"data/testa.txt\"), np.loadtxt(\"data/testb.txt\")), [3, 8])"
   ]
  },
  {
   "cell_type": "code",
   "execution_count": null,
   "id": "7aab98a0",
   "metadata": {
    "deletable": false,
    "nbgrader": {
     "cell_type": "code",
     "checksum": "3640f2010092cc07462027170e6ce58f",
     "grade": false,
     "grade_id": "cell-f8cf1f96e4f93ef3",
     "locked": false,
     "schema_version": 3,
     "solution": true,
     "task": false
    }
   },
   "outputs": [],
   "source": [
    "def where_equal(a: np.ndarray, b: np.ndarray) -> np.ndarray:\n",
    "    \"\"\"\n",
    "    Create an array with the positions of the elements in a and b that are equal \n",
    "\n",
    "    Parameters\n",
    "    ----------\n",
    "    a : ndarray\n",
    "        An array of numbers (float / int)\n",
    "    b : ndarray\n",
    "        An array of numbers (float / int)\n",
    "\n",
    "    Returns\n",
    "    -------\n",
    "    ndarray\n",
    "        \n",
    "    \"\"\"\n",
    "    # YOUR CODE HERE\n",
    "    raise NotImplementedError()"
   ]
  },
  {
   "cell_type": "code",
   "execution_count": null,
   "id": "3908ade2",
   "metadata": {
    "deletable": false,
    "editable": false,
    "nbgrader": {
     "cell_type": "code",
     "checksum": "50fb54acab71669bb6b96a67f4682869",
     "grade": true,
     "grade_id": "cell-f189c9173e6baf32",
     "locked": true,
     "points": 1,
     "schema_version": 3,
     "solution": false,
     "task": false
    }
   },
   "outputs": [],
   "source": [
    "assert where_equal(np.array([1, 2, 3, 4, 5, 6, 7, 8, 9]), np.array([9, 8, 7, 6, 5, 4, 3, 2 ,1]))[0] == 4\n",
    "assert np.array_equal(where_equal(np.loadtxt(\"data/testa.txt\"), np.loadtxt(\"data/testb.txt\"))[0], [6, 9])"
   ]
  },
  {
   "cell_type": "code",
   "execution_count": null,
   "id": "1d28fc19",
   "metadata": {
    "deletable": false,
    "nbgrader": {
     "cell_type": "code",
     "checksum": "649722c9c8877847ebd73e743006f123",
     "grade": false,
     "grade_id": "cell-6ad80f6f187f4290",
     "locked": false,
     "schema_version": 3,
     "solution": true,
     "task": false
    }
   },
   "outputs": [],
   "source": [
    "def count_negative_values(a: np.ndarray) -> int:\n",
    "    \"\"\"\n",
    "    Calculate how many negative values there are in an array\n",
    "\n",
    "    Parameters\n",
    "    ----------\n",
    "    a : ndarray\n",
    "        An array of numbers (float / int)\n",
    "\n",
    "    Returns\n",
    "    -------\n",
    "    int\n",
    "        \n",
    "    \"\"\"\n",
    "    # YOUR CODE HERE\n",
    "    raise NotImplementedError()"
   ]
  },
  {
   "cell_type": "code",
   "execution_count": null,
   "id": "96151c5d",
   "metadata": {
    "deletable": false,
    "editable": false,
    "nbgrader": {
     "cell_type": "code",
     "checksum": "aa5f0e73cd733a15e8a6e50bd8c39858",
     "grade": true,
     "grade_id": "cell-44650e1c8431ba74",
     "locked": true,
     "points": 1,
     "schema_version": 3,
     "solution": false,
     "task": false
    }
   },
   "outputs": [],
   "source": [
    "assert count_negative_values(np.array([1, -1, 2, 3, 5, -2, -10.6])) == 3\n",
    "assert count_negative_values(np.array([1, 1, 2, 3, 5, 2, 10.6])) == 0"
   ]
  },
  {
   "cell_type": "code",
   "execution_count": null,
   "id": "34717e10",
   "metadata": {
    "deletable": false,
    "nbgrader": {
     "cell_type": "code",
     "checksum": "d6eaca4d0bf539255ff16bedf828a56f",
     "grade": false,
     "grade_id": "cell-2c3954d4eb9b42dd",
     "locked": false,
     "schema_version": 3,
     "solution": true,
     "task": false
    }
   },
   "outputs": [],
   "source": [
    "def normalize(a: np.ndarray) -> ndarray:\n",
    "    \"\"\"\n",
    "    Function that normalizes an array, i.e., produced values that are\n",
    "    contained within 0 and 1.\n",
    "\n",
    "    Parameters\n",
    "    ----------\n",
    "    a : ndarray\n",
    "        An array of numbers (float / int)\n",
    "\n",
    "    Returns\n",
    "    -------\n",
    "    ndarray\n",
    "        \n",
    "    \"\"\"\n",
    "    # YOUR CODE HERE\n",
    "    raise NotImplementedError()"
   ]
  },
  {
   "cell_type": "code",
   "execution_count": null,
   "id": "5bdcecf2",
   "metadata": {
    "deletable": false,
    "editable": false,
    "nbgrader": {
     "cell_type": "code",
     "checksum": "e46d01beabd2e4769e1374358f2d8c43",
     "grade": true,
     "grade_id": "cell-390e123d17f5b230",
     "locked": true,
     "points": 3,
     "schema_version": 3,
     "solution": false,
     "task": false
    }
   },
   "outputs": [],
   "source": [
    "data = np.loadtxt(\"data/seplength.txt\")\n",
    "assert np.array_equal(normalize(data), [0.22222222222222213, 0.1666666666666668, 0.11111111111111119, 0.08333333333333327, 0.19444444444444448, 0.30555555555555564, 0.08333333333333327, 0.19444444444444448, 0.027777777777777922, 0.1666666666666668, 0.30555555555555564, 0.13888888888888887, 0.13888888888888887, 0.0, 0.41666666666666663, 0.38888888888888895, 0.30555555555555564, 0.22222222222222213, 0.38888888888888895, 0.22222222222222213, 0.30555555555555564, 0.22222222222222213, 0.08333333333333327, 0.22222222222222213, 0.13888888888888887, 0.19444444444444448, 0.19444444444444448, 0.25000000000000006, 0.25000000000000006, 0.11111111111111119, 0.13888888888888887, 0.30555555555555564, 0.25000000000000006, 0.3333333333333333, 0.1666666666666668, 0.19444444444444448, 0.3333333333333333, 0.1666666666666668, 0.027777777777777922, 0.22222222222222213, 0.19444444444444448, 0.055555555555555594, 0.027777777777777922, 0.19444444444444448, 0.22222222222222213, 0.13888888888888887, 0.22222222222222213, 0.08333333333333327, 0.27777777777777773, 0.19444444444444448, 0.7499999999999999, 0.5833333333333334, 0.7222222222222222, 0.3333333333333333, 0.611111111111111, 0.38888888888888895, 0.5555555555555555, 0.1666666666666668, 0.6388888888888887, 0.25000000000000006, 0.19444444444444448, 0.44444444444444453, 0.4722222222222222, 0.4999999999999999, 0.361111111111111, 0.6666666666666666, 0.361111111111111, 0.41666666666666663, 0.5277777777777778, 0.361111111111111, 0.44444444444444453, 0.4999999999999999, 0.5555555555555555, 0.4999999999999999, 0.5833333333333334, 0.6388888888888887, 0.6944444444444443, 0.6666666666666666, 0.4722222222222222, 0.38888888888888895, 0.3333333333333333, 0.3333333333333333, 0.41666666666666663, 0.4722222222222222, 0.30555555555555564, 0.4722222222222222, 0.6666666666666666, 0.5555555555555555, 0.361111111111111, 0.3333333333333333, 0.3333333333333333, 0.4999999999999999, 0.41666666666666663, 0.19444444444444448, 0.361111111111111, 0.38888888888888895, 0.38888888888888895, 0.5277777777777778, 0.22222222222222213, 0.38888888888888895, 0.5555555555555555, 0.41666666666666663, 0.7777777777777776, 0.5555555555555555, 0.611111111111111, 0.9166666666666665, 0.1666666666666668, 0.8333333333333333, 0.6666666666666666, 0.8055555555555556, 0.611111111111111, 0.5833333333333334, 0.6944444444444443, 0.38888888888888895, 0.41666666666666663, 0.5833333333333334, 0.611111111111111, 0.9444444444444444, 0.9444444444444444, 0.4722222222222222, 0.7222222222222222, 0.361111111111111, 0.9444444444444444, 0.5555555555555555, 0.6666666666666666, 0.8055555555555556, 0.5277777777777778, 0.4999999999999999, 0.5833333333333334, 0.8055555555555556, 0.8611111111111112, 1.0, 0.5833333333333334, 0.5555555555555555, 0.4999999999999999, 0.9444444444444444, 0.5555555555555555, 0.5833333333333334, 0.4722222222222222, 0.7222222222222222, 0.6666666666666666, 0.7222222222222222, 0.41666666666666663, 0.6944444444444443, 0.6666666666666666, 0.6666666666666666, 0.5555555555555555, 0.611111111111111, 0.5277777777777778, 0.44444444444444453])"
   ]
  },
  {
   "cell_type": "code",
   "execution_count": null,
   "id": "6f374a04",
   "metadata": {
    "deletable": false,
    "nbgrader": {
     "cell_type": "code",
     "checksum": "04fa535e504bbf87b77105931feb8e34",
     "grade": false,
     "grade_id": "cell-2",
     "locked": false,
     "schema_version": 3,
     "solution": true,
     "task": false
    }
   },
   "outputs": [],
   "source": [
    "def text_arrays_to_unified(a: np.ndarray) -> int:\n",
    "    \"\"\"\n",
    "    Function that converts the array contained in the 'data/arrays.txt' \n",
    "    file and returns a single array (i.e., shape (x, 1)) of all \n",
    "    separate values \n",
    "\n",
    "    Parameters\n",
    "    ----------\n",
    "    a : ndarray\n",
    "        An array of strings\n",
    "\n",
    "    Returns\n",
    "    -------\n",
    "    ndarray\n",
    "        \n",
    "    \"\"\"\n",
    "    # YOUR CODE HERE\n",
    "    raise NotImplementedError()"
   ]
  },
  {
   "cell_type": "code",
   "execution_count": null,
   "id": "b3496b8e",
   "metadata": {
    "deletable": false,
    "editable": false,
    "nbgrader": {
     "cell_type": "code",
     "checksum": "437dd3d4fee00c5c7d32f1d590540e7a",
     "grade": true,
     "grade_id": "cell-2test",
     "locked": true,
     "points": 3,
     "schema_version": 3,
     "solution": false,
     "task": false
    }
   },
   "outputs": [],
   "source": [
    "data = np.loadtxt(\"data/arrays.txt\", dtype=str)\n",
    "\n",
    "assert np.array_equal(text_arrays_to_unified(data), [3, 2, 1, 1, 1, 2, 0, 4, 1, 0, 0, 4, 0, 3, 1, 4, 2, 0, 1, 0, 3, 3, 2, 2, 0, 0, 0, 0, 3, 3, 3, 1, 4, 0, 3, 4, 1, 3, 1, 2])"
   ]
  },
  {
   "cell_type": "code",
   "execution_count": null,
   "id": "181607b1",
   "metadata": {
    "deletable": false,
    "nbgrader": {
     "cell_type": "code",
     "checksum": "a6f6d1cd02cb95e256443717708c780b",
     "grade": true,
     "grade_id": "cell-3dsadas",
     "locked": false,
     "points": 3,
     "schema_version": 3,
     "solution": true,
     "task": false
    }
   },
   "outputs": [],
   "source": [
    "import matplotlib.pyplot as plt\n",
    "\n",
    "def plot_histogram(x: np.ndarray):\n",
    "    \"\"\"\n",
    "    Plot an histogram of the data contained in the array x. \n",
    "    Do not forget to properly annotate the plot (axis, title, etc.)\n",
    "\n",
    "    Parameters\n",
    "    ----------\n",
    "    x : ndarray\n",
    "        An array of numbers (float / int)\n",
    "\n",
    "    Returns\n",
    "    -------\n",
    "    None\n",
    "        \n",
    "    \"\"\"\n",
    "    # YOUR CODE HERE\n",
    "    raise NotImplementedError()"
   ]
  },
  {
   "cell_type": "code",
   "execution_count": null,
   "id": "80e18273",
   "metadata": {},
   "outputs": [],
   "source": [
    "plot_histogram(np.loadtxt(\"data/x.txt\"))"
   ]
  },
  {
   "cell_type": "markdown",
   "id": "6de16690",
   "metadata": {
    "deletable": false,
    "editable": false,
    "nbgrader": {
     "cell_type": "markdown",
     "checksum": "1cfbdd240c96234bcd49f7f18f652d36",
     "grade": false,
     "grade_id": "cell-176e0ba8cd703f55",
     "locked": true,
     "points": 1,
     "schema_version": 3,
     "solution": false,
     "task": true
    }
   },
   "source": [
    "### By visual inspection, what type of data distribution follows the data you plotted in the previous exercise? \n",
    "\n",
    "Answer here:"
   ]
  }
 ],
 "metadata": {
  "kernelspec": {
   "display_name": "Python 3 (ipykernel)",
   "language": "python",
   "name": "python3"
  },
  "language_info": {
   "codemirror_mode": {
    "name": "ipython",
    "version": 3
   },
   "file_extension": ".py",
   "mimetype": "text/x-python",
   "name": "python",
   "nbconvert_exporter": "python",
   "pygments_lexer": "ipython3",
   "version": "3.9.7"
  }
 },
 "nbformat": 4,
 "nbformat_minor": 5
}
